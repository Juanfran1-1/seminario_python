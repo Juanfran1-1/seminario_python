{
 "cells": [
  {
   "cell_type": "code",
   "execution_count": 1,
   "metadata": {},
   "outputs": [
    {
     "name": "stdout",
     "output_type": "stream",
     "text": [
      "ES UNA ANAGRAMAAA :)\n"
     ]
    }
   ],
   "source": [
    "palabra1= input('INGRESE PALABRA N1 A COMPARAR:')\n",
    "palabra2= input('INGRESE PALABRA N2 A COMPARAR:')\n",
    "\n",
    "def anagrama(palabra1,palabra2):\n",
    "    palabra1=palabra1.upper()\n",
    "    palabra2=palabra2.upper()\n",
    "    if palabra1 == palabra2[::-1]:\n",
    "        return True\n",
    "    else:\n",
    "        return False\n",
    "\n",
    "if (anagrama(palabra1,palabra2)):\n",
    "    print('ES UNA ANAGRAMAAA :)')\n",
    "else :\n",
    "    print('NO LO ES :(')\n",
    "\n",
    "            "
   ]
  }
 ],
 "metadata": {
  "kernelspec": {
   "display_name": "Python 3",
   "language": "python",
   "name": "python3"
  },
  "language_info": {
   "codemirror_mode": {
    "name": "ipython",
    "version": 3
   },
   "file_extension": ".py",
   "mimetype": "text/x-python",
   "name": "python",
   "nbconvert_exporter": "python",
   "pygments_lexer": "ipython3",
   "version": "3.12.9"
  }
 },
 "nbformat": 4,
 "nbformat_minor": 2
}
