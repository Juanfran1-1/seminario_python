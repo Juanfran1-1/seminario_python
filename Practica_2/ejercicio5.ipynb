{
 "cells": [
  {
   "cell_type": "code",
   "execution_count": 1,
   "metadata": {},
   "outputs": [
    {
     "name": "stdout",
     "output_type": "stream",
     "text": [
      "Tiempo de reacción: 300 ms - Clasificación: Normal \n"
     ]
    }
   ],
   "source": [
    "def clasificar(tiempo_ms):\n",
    "    if tiempo_ms < 200:\n",
    "        return \"Rápido\"\n",
    "    elif 200 <= tiempo_ms <= 500:\n",
    "        return \"Normal \"\n",
    "    else:\n",
    "        return \"Lento \"\n",
    "\n",
    "tiempo = int(input(\"Ingrese el tiempo de reacción en ms: \"))\n",
    "clasificacion= clasificar(tiempo)\n",
    "\n",
    "print(f\"Tiempo de reacción: {tiempo} ms - Clasificación: {clasificacion}\")\n",
    "            "
   ]
  }
 ],
 "metadata": {
  "kernelspec": {
   "display_name": "Python 3",
   "language": "python",
   "name": "python3"
  },
  "language_info": {
   "codemirror_mode": {
    "name": "ipython",
    "version": 3
   },
   "file_extension": ".py",
   "mimetype": "text/x-python",
   "name": "python",
   "nbconvert_exporter": "python",
   "pygments_lexer": "ipython3",
   "version": "3.12.9"
  }
 },
 "nbformat": 4,
 "nbformat_minor": 2
}
