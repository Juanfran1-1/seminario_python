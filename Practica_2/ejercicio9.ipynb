{
 "cells": [
  {
   "cell_type": "code",
   "execution_count": null,
   "metadata": {},
   "outputs": [
    {
     "name": "stdout",
     "output_type": "stream",
     "text": [
      "['Ana López', 'Pedro Gómez', 'Maria Martínez', 'Pedro Gómez', 'Luis Rodríguez', 'Ana López', 'Juan Pérez', 'Marta Suárez', 'Luis Rodríguez', 'María Martínez', 'Claudia Torres', 'Claudia Torres', 'Pedro Gómez', 'Juan Pérez', 'Ricardo Fernández', 'Laura Ramos', 'Carlos Mendes', 'Ricardo Fernández', 'Laura Ramos', 'Carlos Mendes', 'Alejandro González', 'Alejandro González', 'Patricia Vega', 'Patricia Vega', 'Andrés Ocampo', 'Andrés Ocampo', 'Monica Herrera', 'Monica Herrera', 'Gabriela Ruíz', 'Gabriela Ruíz', 'Sandra Morales', 'Sandra Morales', 'Miguel Ángel', 'Miguel Ángel', 'Damián Castillo', 'Damián Castillo']\n"
     ]
    }
   ],
   "source": [
    "clients = [\n",
    "\" Ana López \", \"Pedro Gómez\", \"maria martínez\", \"Pedro Gómez \", \"\",\n",
    "\" Luis Rodríguez \", None, \"ana lópez\", \"JUAN PÉREZ\", \"MARTA SUÁREZ\",\n",
    "\"luis rodríguez\", \"maría martínez \", \" claudia torres\", \"CLAUDIA TORRES\",\n",
    "\" \", \"pedro gómez\", \"Juan Pérez\", None, \"Ricardo Fernández\", \"LAURA RAMOS\",\n",
    "\"carlos mendes\", \"RICARDO FERNÁNDEZ \", \" Laura ramos\", \"CARLOS MENDES\",\n",
    "\"alejandro gonzález\", \" ALEJANDRO GONZÁLEZ \", \"Patricia Vega\",\n",
    "\"patricia VEGA\", \"Andrés Ocampo\", \" andrés ocampo\", \"Monica Herrera\",\n",
    "\"MONICA HERRERA \", \"gabriela ruíz\", \"Gabriela Ruíz\", \"sandra morales\",\n",
    "\"SANDRA MORALES\", \"miguel ángel\", \"Miguel Ángel \", \" Damián Castillo\",\n",
    "\"Damián Castillo \", None, \"\", \" \"\n",
    "]\n",
    "\n",
    "\n",
    "def clean_name(name):\n",
    "    return  name.strip().title() if name else None\n",
    "\n",
    "def eliminar_vacios(clients):\n",
    "    clientesmod=[]\n",
    "    for cliente in clients:\n",
    "        clienteact= clean_name(cliente)\n",
    "        if not clienteact in (None,\"\"):\n",
    "            clientesmod.append(clienteact)           \n",
    "    return clientesmod\n",
    "\n",
    "def eliminar_repetidos(clients):\n",
    "    unique_clients = []\n",
    "    for clienteact in clients:\n",
    "        if clienteact not in unique_clients:\n",
    "            unique_clients.append(clienteact)\n",
    "    return unique_clients\n",
    "\n",
    "        \n",
    "def modificarlista(clients):\n",
    "    clients=eliminar_vacios(clients)\n",
    "    clients=eliminar_repetidos(clients)\n",
    "    return clients\n",
    "\n",
    "\n",
    "print(modificarlista(clients))\n"
   ]
  }
 ],
 "metadata": {
  "kernelspec": {
   "display_name": "Python 3",
   "language": "python",
   "name": "python3"
  },
  "language_info": {
   "codemirror_mode": {
    "name": "ipython",
    "version": 3
   },
   "file_extension": ".py",
   "mimetype": "text/x-python",
   "name": "python",
   "nbconvert_exporter": "python",
   "pygments_lexer": "ipython3",
   "version": "3.12.9"
  }
 },
 "nbformat": 4,
 "nbformat_minor": 2
}
