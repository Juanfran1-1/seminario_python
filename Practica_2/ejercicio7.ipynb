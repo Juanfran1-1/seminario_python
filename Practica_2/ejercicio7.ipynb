{
 "cells": [
  {
   "cell_type": "code",
   "execution_count": null,
   "metadata": {},
   "outputs": [],
   "source": [
    "import string\n",
    "import random\n",
    "\n",
    "\n",
    "usuario= input('INGRESE NOMBRE DE USUARIO: ')\n",
    "fecha= input('INGRESE FECHA (DD-MM-AA): ')\n",
    "\n",
    "def codigo(usuario,fecha):\n",
    "    aleatorios = string.ascii_letters + string.digits \n",
    "    if len(usuario) > 15:\n",
    "        print('SE EXCENDIERON LOS 15 CARACTERES DEL NOMBRE')  \n",
    "    else:\n",
    "        fecha= fecha.split('-')\n",
    "        cdd = usuario.upper() + '-' \n",
    "        for i in fecha:\n",
    "            cdd+= i  \n",
    "        cdd += '-'\n",
    "        for i in range(30 - len(cdd)):\n",
    "            cdd += random.choice(aleatorios)\n",
    "    return cdd        \n",
    "print(f\"el codigo de descuento generado es {codigo(usuario,fecha)}\")"
   ]
  }
 ],
 "metadata": {
  "kernelspec": {
   "display_name": "Python 3",
   "language": "python",
   "name": "python3"
  },
  "language_info": {
   "codemirror_mode": {
    "name": "ipython",
    "version": 3
   },
   "file_extension": ".py",
   "mimetype": "text/x-python",
   "name": "python",
   "nbconvert_exporter": "python",
   "pygments_lexer": "ipython3",
   "version": "3.12.9"
  }
 },
 "nbformat": 4,
 "nbformat_minor": 2
}
