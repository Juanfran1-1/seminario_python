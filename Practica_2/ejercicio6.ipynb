{
 "cells": [
  {
   "cell_type": "code",
   "execution_count": 1,
   "metadata": {},
   "outputs": [
    {
     "name": "stdout",
     "output_type": "stream",
     "text": [
      "La cantidad de veces que se leyo la palabra entretenimiento fueron 1\n",
      "La cantidad de veces que se leyo la palabra música fueron 4\n",
      "La cantidad de veces que se leyo la palabra charla fueron 2\n"
     ]
    }
   ],
   "source": [
    "def cuenta_claves(descripciones):\n",
    "    claves = [\"entretenimiento\", \"música\", \"charla\"]\n",
    "    conteo= {palabra: 0 for palabra in claves}\n",
    "    \n",
    "    for descripcion in descripciones:\n",
    "        palabras= descripcion.lower().split()\n",
    "        for palabra in claves:\n",
    "            conteo[palabra] += palabras.count(palabra)\n",
    "    \n",
    "    return conteo\n",
    "\n",
    "\n",
    "\n",
    "descriptions = [\n",
    "\"Streaming de música en vivo con covers y composiciones\",\n",
    "\"Charla interactiva con la audiencia sobre series y películas\",\n",
    "\"Jugamos a juegos retro y charlamos sobre su historia\",\n",
    "\"Exploramos la mejor música de los 80s y 90s\",\n",
    "\"Programa de entretenimiento con noticias y curiosidades del mundo gamer\",\n",
    "\"Sesión de charla con invitados especiales del mundo del streaming\",\n",
    "\"Música en directo con improvisaciones y peticiones del chat\",\n",
    "\"Un espacio para charlar relajada sobre tecnología y cultura digital\",\n",
    "\"Exploramos el impacto de la música en los videojuegos clásicos\"\n",
    "]\n",
    "\n",
    "resultados = cuenta_claves(descriptions)\n",
    "\n",
    "for palabra,cantidad in resultados.items():\n",
    "    print(f\"La cantidad de veces que se leyo la palabra {palabra} fueron {cantidad}\")"
   ]
  }
 ],
 "metadata": {
  "kernelspec": {
   "display_name": "Python 3",
   "language": "python",
   "name": "python3"
  },
  "language_info": {
   "codemirror_mode": {
    "name": "ipython",
    "version": 3
   },
   "file_extension": ".py",
   "mimetype": "text/x-python",
   "name": "python",
   "nbconvert_exporter": "python",
   "pygments_lexer": "ipython3",
   "version": "3.12.9"
  }
 },
 "nbformat": 4,
 "nbformat_minor": 2
}
