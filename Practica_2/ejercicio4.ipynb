{
 "cells": [
  {
   "cell_type": "code",
   "execution_count": 1,
   "metadata": {},
   "outputs": [
    {
     "name": "stdout",
     "output_type": "stream",
     "text": [
      "Nombre de usuario válido Juanf123\n"
     ]
    }
   ],
   "source": [
    "\n",
    "nombre_usuario = input('INGRESE NOMBRE DE USUARIO: ')\n",
    "caracteres = 0\n",
    "numero= False\n",
    "mayus = False\n",
    "for i in range(len(nombre_usuario)):\n",
    "    elemento= nombre_usuario[i]\n",
    "    if elemento.isupper():\n",
    "        mayus=True\n",
    "        caracteres += 1\n",
    "    elif elemento.isdigit():\n",
    "        numero=True\n",
    "    elif elemento.isalpha():\n",
    "        caracteres += 1\n",
    "chequear = (caracteres >= 5) and (numero) and (mayus)   \n",
    "if (chequear): \n",
    "    print(\"Nombre de usuario válido {}\".format(nombre_usuario))\n",
    "else:\n",
    "    print(\"Nombre de usuario inválido {}\" .format(nombre_usuario))"
   ]
  }
 ],
 "metadata": {
  "kernelspec": {
   "display_name": "Python 3",
   "language": "python",
   "name": "python3"
  },
  "language_info": {
   "codemirror_mode": {
    "name": "ipython",
    "version": 3
   },
   "file_extension": ".py",
   "mimetype": "text/x-python",
   "name": "python",
   "nbconvert_exporter": "python",
   "pygments_lexer": "ipython3",
   "version": "3.12.9"
  }
 },
 "nbformat": 4,
 "nbformat_minor": 2
}
