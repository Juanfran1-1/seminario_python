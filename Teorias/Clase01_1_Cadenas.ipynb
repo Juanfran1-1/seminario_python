{
 "cells": [
  {
   "cell_type": "markdown",
   "id": "mobile-stanford",
   "metadata": {
    "slideshow": {
     "slide_type": "slide"
    }
   },
   "source": [
    "# Lenguaje  Python\n",
    "\n",
    "## Temario\n",
    " - Cadenas de caracteres\n",
    " - Función range()"
   ]
  },
  {
   "cell_type": "markdown",
   "id": "b26fd8aa",
   "metadata": {
    "slideshow": {
     "slide_type": "slide"
    }
   },
   "source": [
    "# Tipos de datos\n",
    "\n",
    "## ¿Qué nos indica un tipo de datos?"
   ]
  },
  {
   "cell_type": "markdown",
   "id": "9363a007",
   "metadata": {
    "slideshow": {
     "slide_type": "fragment"
    }
   },
   "source": [
    "- El tipo de datos nos indica **qué valores** y **qué operaciones** podemos hacer con una determinada variable."
   ]
  },
  {
   "cell_type": "markdown",
   "id": "natural-transaction",
   "metadata": {
    "slideshow": {
     "slide_type": "subslide"
    }
   },
   "source": [
    "# ¿Qué tipos de datos vimos en la clase?\n",
    "\n",
    "- Números: **int** y **float**\n",
    "- Booleanos: **bool** (que mencionamos que eran números también)\n",
    "- Cadenas de caracteres: **str**\n",
    "\n",
    "La función **type()** nos permite saber de qué tipo es un determinado objeto referenciado por una variable. "
   ]
  },
  {
   "cell_type": "code",
   "execution_count": 1,
   "id": "palestinian-thesaurus",
   "metadata": {
    "slideshow": {
     "slide_type": "fragment"
    }
   },
   "outputs": [
    {
     "data": {
      "text/plain": [
       "bool"
      ]
     },
     "execution_count": 1,
     "metadata": {},
     "output_type": "execute_result"
    }
   ],
   "source": [
    "x = True\n",
    "type(x)"
   ]
  },
  {
   "cell_type": "markdown",
   "id": "original-bristol",
   "metadata": {
    "slideshow": {
     "slide_type": "subslide"
    }
   },
   "source": [
    "# También vimos que  hay algunas conversiones de tipo implícitas y otras explícitas"
   ]
  },
  {
   "cell_type": "code",
   "execution_count": 2,
   "id": "baking-pickup",
   "metadata": {
    "slideshow": {
     "slide_type": "fragment"
    }
   },
   "outputs": [
    {
     "data": {
      "text/plain": [
       "float"
      ]
     },
     "execution_count": 2,
     "metadata": {},
     "output_type": "execute_result"
    }
   ],
   "source": [
    "half = 10 / 2\n",
    "type(half)"
   ]
  },
  {
   "cell_type": "code",
   "execution_count": 3,
   "id": "charged-earth",
   "metadata": {
    "slideshow": {
     "slide_type": "fragment"
    }
   },
   "outputs": [
    {
     "data": {
      "text/plain": [
       "int"
      ]
     },
     "execution_count": 3,
     "metadata": {},
     "output_type": "execute_result"
    }
   ],
   "source": [
    "half = int(10 / 2)\n",
    "type(half)"
   ]
  },
  {
   "cell_type": "markdown",
   "id": "cellular-chain",
   "metadata": {
    "slideshow": {
     "slide_type": "subslide"
    }
   },
   "source": [
    "# Las cadenas de caracteres\n",
    "\n",
    "- Secuencia de caracteres encerrados entre comillas simples ' ' o comillas dobles \" \".\n",
    "- También se  pueden definir con \"\"\" \"\"\". \n",
    "\n"
   ]
  },
  {
   "cell_type": "code",
   "execution_count": 4,
   "id": "2b8c861f",
   "metadata": {
    "slideshow": {
     "slide_type": "fragment"
    }
   },
   "outputs": [
    {
     "data": {
      "text/plain": [
       "'ATENCION: la opción ingresada no es correcta.'"
      ]
     },
     "execution_count": 4,
     "metadata": {},
     "output_type": "execute_result"
    }
   ],
   "source": [
    "error_mensage = \"ATENCION: la opción ingresada no es correcta.\"\n",
    "error_mensage"
   ]
  },
  {
   "cell_type": "code",
   "execution_count": 5,
   "id": "challenging-collapse",
   "metadata": {
    "slideshow": {
     "slide_type": "fragment"
    }
   },
   "outputs": [
    {
     "name": "stdout",
     "output_type": "stream",
     "text": [
      " The Zen of Python, by Tim Peters\n",
      "\n",
      "Beautiful is better than ugly.\n",
      "Explicit is better than implicit.\n",
      ".......\n",
      "        \n"
     ]
    }
   ],
   "source": [
    "zen = \"\"\" The Zen of Python, by Tim Peters\n",
    "\n",
    "Beautiful is better than ugly.\n",
    "Explicit is better than implicit.\n",
    ".......\n",
    "        \"\"\"\n",
    "print(zen)"
   ]
  },
  {
   "cell_type": "markdown",
   "id": "ranging-roulette",
   "metadata": {
    "slideshow": {
     "slide_type": "slide"
    }
   },
   "source": [
    "# Operaciones con cadenas de caracteres\n",
    "- Concatenación: **+**\n",
    "- Repetición: **\\***\n",
    "- Longitud de la cadena: **len()** "
   ]
  },
  {
   "cell_type": "code",
   "execution_count": 6,
   "id": "southeast-monitoring",
   "metadata": {
    "slideshow": {
     "slide_type": "fragment"
    }
   },
   "outputs": [
    {
     "name": "stdout",
     "output_type": "stream",
     "text": [
      "Python es lo más!\n",
      "Python Python Python Python Python \n",
      "7\n"
     ]
    }
   ],
   "source": [
    "part_1 = \"Python \"\n",
    "part_2 = \"es lo más!\"\n",
    "print(part_1 + part_2)\n",
    "print(part_1 * 5)\n",
    "print(len(part_1))"
   ]
  },
  {
   "cell_type": "markdown",
   "id": "careful-growth",
   "metadata": {
    "slideshow": {
     "slide_type": "subslide"
    }
   },
   "source": [
    "# Algo más sobre cadenas de caracteres\n",
    "\n",
    "- Cada elemento de la cadena se accede mediante un índice entre []\n",
    "\n",
    "<center>\n",
    "<img src=\"imagenes/cadena-Python.png\" alt=\"cadenas en Python\" style=\"width:500px;\"/></center>"
   ]
  },
  {
   "cell_type": "code",
   "execution_count": 8,
   "id": "protecting-cotton",
   "metadata": {
    "slideshow": {
     "slide_type": "fragment"
    }
   },
   "outputs": [
    {
     "data": {
      "text/plain": [
       "'t'"
      ]
     },
     "execution_count": 8,
     "metadata": {},
     "output_type": "execute_result"
    }
   ],
   "source": [
    "word = \"Python\"\n",
    "word[2]"
   ]
  },
  {
   "cell_type": "markdown",
   "id": "circular-spotlight",
   "metadata": {
    "slideshow": {
     "slide_type": "fragment"
    }
   },
   "source": [
    "- El índice puede ser negativo."
   ]
  },
  {
   "cell_type": "markdown",
   "id": "loose-forum",
   "metadata": {
    "slideshow": {
     "slide_type": "subslide"
    }
   },
   "source": [
    "# Subcadenas - slicing\n",
    "\n",
    "<center>\n",
    "<img src=\"imagenes/cadena-Python.png\" alt=\"cadenas en Python\" style=\"width:500px;\"/></center>"
   ]
  },
  {
   "cell_type": "code",
   "execution_count": 9,
   "id": "coordinated-grave",
   "metadata": {
    "slideshow": {
     "slide_type": "fragment"
    }
   },
   "outputs": [
    {
     "data": {
      "text/plain": [
       "'Python'"
      ]
     },
     "execution_count": 9,
     "metadata": {},
     "output_type": "execute_result"
    }
   ],
   "source": [
    "#word[3:]\n",
    "word[:]"
   ]
  },
  {
   "cell_type": "markdown",
   "id": "entertaining-score",
   "metadata": {
    "slideshow": {
     "slide_type": "fragment"
    }
   },
   "source": [
    "- El operador **:** permite obtener subcadenas. Esto se denomina **slicing**.\n",
    "- El formato es **cadena[inicio:fin]**\n",
    "- NO incluye al elemento cuyo índice es **fin**.\n",
    "- **[:]** devuelve  toda la cadena.\n",
    "- **Si los índices son negativos, se recorre de derecha a izquierda.**"
   ]
  },
  {
   "cell_type": "markdown",
   "id": "a9cb91be",
   "metadata": {
    "slideshow": {
     "slide_type": "subslide"
    }
   },
   "source": [
    "En realidad podemos utilizar el slicing como **secuencia[i:j:k]**\n",
    "\n",
    "donde:\n",
    "- **i:** representa el límite inferior para comenzar,\n",
    "- **j:** la posición hasta donde queremos incluir elementos\n",
    "- **k:** cada cuántos valores queremos que nos muestre, o sea, el salto de un elemento al siguiente."
   ]
  },
  {
   "cell_type": "code",
   "execution_count": 10,
   "id": "a54970cc",
   "metadata": {
    "slideshow": {
     "slide_type": "fragment"
    }
   },
   "outputs": [
    {
     "data": {
      "text/plain": [
       "'nohtyP'"
      ]
     },
     "execution_count": 10,
     "metadata": {},
     "output_type": "execute_result"
    }
   ],
   "source": [
    "word[::-1]"
   ]
  },
  {
   "cell_type": "markdown",
   "id": "wooden-still",
   "metadata": {
    "slideshow": {
     "slide_type": "subslide"
    }
   },
   "source": [
    "# Probemos esto: \n"
   ]
  },
  {
   "cell_type": "code",
   "execution_count": 1,
   "id": "personalized-power",
   "metadata": {
    "slideshow": {
     "slide_type": "fragment"
    }
   },
   "outputs": [
    {
     "ename": "NameError",
     "evalue": "name 'word' is not defined",
     "output_type": "error",
     "traceback": [
      "\u001b[0;31m---------------------------------------------------------------------------\u001b[0m",
      "\u001b[0;31mNameError\u001b[0m                                 Traceback (most recent call last)",
      "Cell \u001b[0;32mIn[1], line 1\u001b[0m\n\u001b[0;32m----> 1\u001b[0m \u001b[43mword\u001b[49m[\u001b[38;5;241m1\u001b[39m] \u001b[38;5;241m=\u001b[39m \u001b[38;5;124m'\u001b[39m\u001b[38;5;124mm\u001b[39m\u001b[38;5;124m'\u001b[39m\n",
      "\u001b[0;31mNameError\u001b[0m: name 'word' is not defined"
     ]
    }
   ],
   "source": [
    "word[1] = 'm'"
   ]
  },
  {
   "cell_type": "markdown",
   "id": "intense-bench",
   "metadata": {
    "slideshow": {
     "slide_type": "fragment"
    }
   },
   "source": [
    "- **Las cadenas son INMUTABLES.**\n",
    "\n",
    "```\n",
    "TypeError: 'str' object does not support item assignment\n",
    "\n",
    "```\n",
    ">### <span style=\"color:#cd7815\">Tenemos que acostumbrarnos a leer los mensajes de  error.</span>"
   ]
  },
  {
   "cell_type": "markdown",
   "id": "alert-fleet",
   "metadata": {
    "slideshow": {
     "slide_type": "slide"
    }
   },
   "source": [
    "# Algo más sobre cadenas de caracteres\n",
    "\n",
    "- Ya mencionamos que en Python, todos son objetos. \n",
    "- Si bien retornaremos a esto más adelante, podemos mencionar que los objetos tienen <span style=\"color:#cd7815\">**propiedades y métodos**</span>.\n",
    "    - objeto.propiedad \n",
    "    - objeto.metodo()\n",
    "- Volviendo a las cadenas, algunos métodos que podemos utilizar son:\n"
   ]
  },
  {
   "cell_type": "code",
   "execution_count": 2,
   "id": "interesting-asbestos",
   "metadata": {
    "slideshow": {
     "slide_type": "fragment"
    }
   },
   "outputs": [
    {
     "data": {
      "text/plain": [
       "'python es lo más!'"
      ]
     },
     "execution_count": 2,
     "metadata": {},
     "output_type": "execute_result"
    }
   ],
   "source": [
    "sentence = \"Python es lo más!\"\n",
    "#sentence.upper()\n",
    "sentence.lower()"
   ]
  },
  {
   "cell_type": "code",
   "execution_count": 3,
   "id": "81767831",
   "metadata": {
    "slideshow": {
     "slide_type": "fragment"
    }
   },
   "outputs": [
    {
     "data": {
      "text/plain": [
       "False"
      ]
     },
     "execution_count": 3,
     "metadata": {},
     "output_type": "execute_result"
    }
   ],
   "source": [
    "sentence.islower()\n",
    "#sentence.isupper()"
   ]
  },
  {
   "cell_type": "markdown",
   "id": "dff24578",
   "metadata": {
    "slideshow": {
     "slide_type": "subslide"
    }
   },
   "source": [
    "## Algo un poco más interesante:"
   ]
  },
  {
   "cell_type": "code",
   "execution_count": 4,
   "id": "7941f7ca",
   "metadata": {
    "slideshow": {
     "slide_type": "fragment"
    }
   },
   "outputs": [
    {
     "data": {
      "text/plain": [
       "6"
      ]
     },
     "execution_count": 4,
     "metadata": {},
     "output_type": "execute_result"
    }
   ],
   "source": [
    "sentence = \"Somos campeones del mundo!!!!!!\"\n",
    "sentence.count(\"!\")"
   ]
  },
  {
   "cell_type": "code",
   "execution_count": 5,
   "id": "17a32a00",
   "metadata": {
    "slideshow": {
     "slide_type": "fragment"
    }
   },
   "outputs": [
    {
     "data": {
      "text/plain": [
       "'*******************Somos campeones del mundo!!!!!!********************'"
      ]
     },
     "execution_count": 5,
     "metadata": {},
     "output_type": "execute_result"
    }
   ],
   "source": [
    "sentence.center(70, \"*\")"
   ]
  },
  {
   "cell_type": "code",
   "execution_count": 6,
   "id": "553a644e",
   "metadata": {
    "slideshow": {
     "slide_type": "fragment"
    }
   },
   "outputs": [
    {
     "data": {
      "text/plain": [
       "'Somos campeones del mundo!!!!!'"
      ]
     },
     "execution_count": 6,
     "metadata": {},
     "output_type": "execute_result"
    }
   ],
   "source": [
    "\"   Somos campeones del mundo!!!!!    \".strip()"
   ]
  },
  {
   "cell_type": "markdown",
   "id": "80fa6544",
   "metadata": {
    "slideshow": {
     "slide_type": "subslide"
    }
   },
   "source": [
    "# Y un poco más..."
   ]
  },
  {
   "cell_type": "code",
   "execution_count": 7,
   "id": "4350b80b",
   "metadata": {
    "slideshow": {
     "slide_type": "fragment"
    }
   },
   "outputs": [
    {
     "data": {
      "text/plain": [
       "True"
      ]
     },
     "execution_count": 7,
     "metadata": {},
     "output_type": "execute_result"
    }
   ],
   "source": [
    "word = \"_caminar\"\n",
    "#word.startswith(\"_\")\n",
    "word.endswith((\"ar\", \"er\", \"ir\"))"
   ]
  },
  {
   "cell_type": "markdown",
   "id": "629e5bf8",
   "metadata": {
    "slideshow": {
     "slide_type": "fragment"
    }
   },
   "source": [
    "Podemos plantear otra solución al DESAFÍO 6 planteado en clase."
   ]
  },
  {
   "cell_type": "code",
   "execution_count": null,
   "id": "c5273b31",
   "metadata": {
    "slideshow": {
     "slide_type": "fragment"
    }
   },
   "outputs": [],
   "source": [
    "# Solución\n"
   ]
  },
  {
   "cell_type": "markdown",
   "id": "9345c500",
   "metadata": {
    "slideshow": {
     "slide_type": "subslide"
    }
   },
   "source": [
    "# El método split()"
   ]
  },
  {
   "cell_type": "code",
   "execution_count": 8,
   "id": "f1259353",
   "metadata": {
    "slideshow": {
     "slide_type": "fragment"
    }
   },
   "outputs": [
    {
     "data": {
      "text/plain": [
       "['Somos', 'campeones', 'del', 'mundo!!!']"
      ]
     },
     "execution_count": 8,
     "metadata": {},
     "output_type": "execute_result"
    }
   ],
   "source": [
    "\"Somos campeones del  mundo!!!\".split()"
   ]
  },
  {
   "cell_type": "markdown",
   "id": "6e52c9f9",
   "metadata": {
    "slideshow": {
     "slide_type": "fragment"
    }
   },
   "source": [
    "Probar: ¿de qué tipo es el objeto retornado por split?"
   ]
  },
  {
   "cell_type": "markdown",
   "id": "known-shaft",
   "metadata": {
    "slideshow": {
     "slide_type": "fragment"
    }
   },
   "source": [
    "- [+Info](https://docs.python.org/3/library/stdtypes.html#str)"
   ]
  },
  {
   "cell_type": "markdown",
   "id": "formed-ticket",
   "metadata": {
    "slideshow": {
     "slide_type": "subslide"
    }
   },
   "source": [
    "# El operador in\n",
    "\n",
    "- Este operador retorna True o False de acuerdo a si un elemento está en una colección o no. \n",
    "- Como las cadenas de caracteres son **secuencias de caracteres** por lo que puede utilizarse este operador.\n"
   ]
  },
  {
   "cell_type": "code",
   "execution_count": 9,
   "id": "republican-ground",
   "metadata": {
    "slideshow": {
     "slide_type": "fragment"
    }
   },
   "outputs": [
    {
     "name": "stdout",
     "output_type": "stream",
     "text": [
      "Ingresá una palabra: casa\n",
      "Hay letras a.\n"
     ]
    }
   ],
   "source": [
    "word = input(\"Ingresá una palabra: \")\n",
    "if \"a\" in word:\n",
    "    print(\"Hay letras a.\")\n",
    "else:\n",
    "    print(\"No hay letras a. \")"
   ]
  },
  {
   "cell_type": "markdown",
   "id": "absolute-librarian",
   "metadata": {
    "slideshow": {
     "slide_type": "slide"
    }
   },
   "source": [
    "# El módulo string \n",
    "\n",
    "- Python tiene un módulo denominado [string](https://docs.python.org/es/3/library/string.html) que contiene mucha funcionalidad para la manipulación de cadenas. \n",
    "- Para acceder a esta funcionalidad hay que **importarla**. Esto lo veremos en detalle más adelante.\n"
   ]
  },
  {
   "cell_type": "code",
   "execution_count": 10,
   "id": "correct-flash",
   "metadata": {
    "slideshow": {
     "slide_type": "fragment"
    }
   },
   "outputs": [
    {
     "data": {
      "text/plain": [
       "'abcdefghijklmnopqrstuvwxyzABCDEFGHIJKLMNOPQRSTUVWXYZ'"
      ]
     },
     "execution_count": 10,
     "metadata": {},
     "output_type": "execute_result"
    }
   ],
   "source": [
    "import string\n",
    "letters = string.ascii_letters\n",
    "let_minus = string.ascii_lowercase\n",
    "num_digits = string.digits\n",
    "\n",
    "letters"
   ]
  },
  {
   "cell_type": "markdown",
   "id": "514fe41d",
   "metadata": {
    "slideshow": {
     "slide_type": "subslide"
    }
   },
   "source": [
    "Ahora podemos tener otra solución al DESAFÍO 3 planteado en clase:\n",
    "> Dado una letra ingresada por el teclado, queremos saber si es mayúscula o minúscula."
   ]
  },
  {
   "cell_type": "code",
   "execution_count": 12,
   "id": "18881c77",
   "metadata": {
    "slideshow": {
     "slide_type": "fragment"
    }
   },
   "outputs": [
    {
     "name": "stdout",
     "output_type": "stream",
     "text": [
      "Ingresar una letra: A\n",
      "Es mayúscula.\n"
     ]
    }
   ],
   "source": [
    "import string\n",
    "let_lower = string.ascii_lowercase\n",
    "let_upper = string.ascii_uppercase\n",
    "\n",
    "letter = input(\"Ingresar una letra: \")\n",
    "if letter in let_lower:\n",
    "    print(\"Es minuscula.\")\n",
    "elif letter in let_upper:\n",
    "    print(\"Es mayúscula.\")\n",
    "else:\n",
    "    print(\"No es una letra.\")"
   ]
  },
  {
   "cell_type": "markdown",
   "id": "signed-volleyball",
   "metadata": {
    "slideshow": {
     "slide_type": "slide"
    }
   },
   "source": [
    "# Cadenas con formato\n",
    "- Es posible definir cadenas con determinados formatos utilizando el método **format**.\n",
    "- La forma general es:\n",
    "```python\n",
    "var_str.format(argumentos)\n",
    "```\n",
    "- Observemos los siguientes ejemplos:"
   ]
  },
  {
   "cell_type": "code",
   "execution_count": 13,
   "id": "democratic-phenomenon",
   "metadata": {
    "slideshow": {
     "slide_type": "fragment"
    }
   },
   "outputs": [
    {
     "name": "stdout",
     "output_type": "stream",
     "text": [
      "Hola Lionel !!! Ganaste! y necesitaste 5 intentos!!!\n"
     ]
    }
   ],
   "source": [
    "tries = 5\n",
    "print('Hola {} !!! Ganaste! y necesitaste {} intentos!!!'.format(\"Lionel\", tries))"
   ]
  },
  {
   "cell_type": "code",
   "execution_count": 14,
   "id": "hungry-claim",
   "metadata": {
    "slideshow": {
     "slide_type": "fragment"
    }
   },
   "outputs": [
    {
     "name": "stdout",
     "output_type": "stream",
     "text": [
      " 1   1    1\n",
      " 2   4    8\n",
      " 3   9   27\n"
     ]
    }
   ],
   "source": [
    "for number in \"123\":\n",
    "    x = int(number)\n",
    "    print(\"{0:2d} {1:3d} {2:4d}\".format(x, x*x, x*x*x))"
   ]
  },
  {
   "cell_type": "markdown",
   "id": "careful-appointment",
   "metadata": {
    "slideshow": {
     "slide_type": "subslide"
    },
    "tags": []
   },
   "source": [
    "# Los f-String \n",
    "- Estuvimos usándolos en los ejemplos donde se mostraba el contenido de una variable además de texto. "
   ]
  },
  {
   "cell_type": "code",
   "execution_count": 15,
   "id": "b0da8b04-3edd-4e87-81fd-3a0b0a90c343",
   "metadata": {
    "slideshow": {
     "slide_type": "fragment"
    },
    "tags": []
   },
   "outputs": [
    {
     "name": "stdout",
     "output_type": "stream",
     "text": [
      "21\n",
      "hola! ¿Cómo están?\n"
     ]
    }
   ],
   "source": [
    "data = 21\n",
    "print(data)\n",
    "data ='hola!'\n",
    "print(f'{data} ¿Cómo están?')"
   ]
  },
  {
   "cell_type": "markdown",
   "id": "5c69ad6d-3657-4389-b8e1-36596acffa2d",
   "metadata": {
    "slideshow": {
     "slide_type": "fragment"
    },
    "tags": []
   },
   "source": [
    "- Fueron introducidos a partir de la versión 3.6.\n",
    "- Ver la [PEP 498](https://www.python.org/dev/peps/pep-0498/)\n",
    "- [+Info](https://docs.python.org/3/reference/lexical_analysis.html#f-strings) en la documentación oficial\n",
    "- Es una forma más sencilla de usar el format y que tiene más funcionalidades."
   ]
  },
  {
   "cell_type": "markdown",
   "id": "13fbee8a",
   "metadata": {
    "slideshow": {
     "slide_type": "subslide"
    }
   },
   "source": [
    "# Un ejemplo"
   ]
  },
  {
   "cell_type": "code",
   "execution_count": 16,
   "id": "alpine-burlington",
   "metadata": {
    "slideshow": {
     "slide_type": "fragment"
    },
    "tags": []
   },
   "outputs": [
    {
     "name": "stdout",
     "output_type": "stream",
     "text": [
      "Hola Lionel !!! Ganaste! y necesitaste 5 intentos!!!\n",
      " 4  16   64\n"
     ]
    }
   ],
   "source": [
    "tries = 5\n",
    "the_goat = \"Lionel\"\n",
    "print(f'Hola {the_goat} !!! Ganaste! y necesitaste {tries} intentos!!!')\n",
    "x = 4\n",
    "print(f\"{x:2d} {x*x:3d} {x*x*x:4d}\")"
   ]
  },
  {
   "cell_type": "markdown",
   "id": "seasonal-solid",
   "metadata": {
    "slideshow": {
     "slide_type": "subslide"
    },
    "tags": []
   },
   "source": [
    "# Algunas cosas interesantes\n"
   ]
  },
  {
   "cell_type": "code",
   "execution_count": 17,
   "id": "acoustic-combat",
   "metadata": {
    "slideshow": {
     "slide_type": "fragment"
    }
   },
   "outputs": [
    {
     "name": "stdout",
     "output_type": "stream",
     "text": [
      "En Argentina nací\n",
      "Tierra del Diego y Lionel\n",
      "De los pibes de Malvinas\n",
      "Que jamás olvidaré.\n"
     ]
    }
   ],
   "source": [
    "sentence_1 = \"En Argentina nací\"\n",
    "sentence_2 = \"Tierra del Diego y Lionel\"\n",
    "sentence_3 = \"De los pibes de Malvinas\"\n",
    "sentence_4 = \"Que jamás olvidaré.\"\n",
    "\n",
    "print(sentence_1)\n",
    "print(sentence_2)\n",
    "print(sentence_3)\n",
    "print(sentence_4)"
   ]
  },
  {
   "cell_type": "code",
   "execution_count": 18,
   "id": "dc02f1d8",
   "metadata": {
    "slideshow": {
     "slide_type": "fragment"
    }
   },
   "outputs": [
    {
     "name": "stdout",
     "output_type": "stream",
     "text": [
      "La mejor canción de todas:\n",
      "En Argentina nací             \n",
      "                         Tierra del Diego y Lionel\n",
      "\n",
      "   De los pibes de Malvinas   \n",
      "\n",
      "***************Que jamás olvidaré.****************\n"
     ]
    }
   ],
   "source": [
    "print(f\"La mejor canción de todas:\\n{sentence_1:<30}\\n{sentence_2:>50}\")\n",
    "print(f\"\\n{sentence_3:^30}\")\n",
    "print(f\"\\n{sentence_4:*^50}\")"
   ]
  },
  {
   "cell_type": "markdown",
   "id": "9e979016-57f3-4066-a0b7-9298d8f42560",
   "metadata": {
    "slideshow": {
     "slide_type": "slide"
    },
    "tags": []
   },
   "source": [
    "## Permite simplificar para \"debuggear\" de forma simple"
   ]
  },
  {
   "cell_type": "markdown",
   "id": "0117d4d2-179f-4a24-afb8-9c8c3a52b077",
   "metadata": {
    "slideshow": {
     "slide_type": "fragment"
    },
    "tags": []
   },
   "source": [
    "Suponemos que queremos saber el contenido de dos variables:"
   ]
  },
  {
   "cell_type": "code",
   "execution_count": 19,
   "id": "8fc6f862-9d9c-4b97-aecf-f2b9c115c47f",
   "metadata": {
    "slideshow": {
     "slide_type": "fragment"
    },
    "tags": []
   },
   "outputs": [
    {
     "name": "stdout",
     "output_type": "stream",
     "text": [
      "x = 10 , y = 25\n"
     ]
    }
   ],
   "source": [
    "x = 10\n",
    "y = 25\n",
    "print(f\"x = {x} , y = {y}\")"
   ]
  },
  {
   "cell_type": "markdown",
   "id": "e58f432e-5d50-47e4-862b-a7297d6759f1",
   "metadata": {
    "slideshow": {
     "slide_type": "fragment"
    },
    "tags": []
   },
   "source": [
    "¿Cómo nos ayuda f'String para simplificar?"
   ]
  },
  {
   "cell_type": "code",
   "execution_count": 20,
   "id": "59ef9dc5-6b55-4e13-9703-3029da0f3dec",
   "metadata": {
    "slideshow": {
     "slide_type": "fragment"
    },
    "tags": []
   },
   "outputs": [
    {
     "name": "stdout",
     "output_type": "stream",
     "text": [
      "x = 10, y = 25\n"
     ]
    }
   ],
   "source": [
    "print(f\"{x = }, {y = }\")"
   ]
  },
  {
   "cell_type": "markdown",
   "id": "b2914399-4669-4a54-bfc6-2c46d36a3f20",
   "metadata": {
    "slideshow": {
     "slide_type": "subslide"
    },
    "tags": []
   },
   "source": [
    "Y si queremos agregarle decimales"
   ]
  },
  {
   "cell_type": "code",
   "execution_count": 21,
   "id": "2a3ae8b9-f8e1-49dc-bf48-c6b81e0bc8c7",
   "metadata": {
    "slideshow": {
     "slide_type": "fragment"
    },
    "tags": []
   },
   "outputs": [
    {
     "name": "stdout",
     "output_type": "stream",
     "text": [
      "x/y = 0.400, y = 25\n"
     ]
    }
   ],
   "source": [
    "print(f\"{x/y = :.3f}, {y = }\")"
   ]
  },
  {
   "cell_type": "markdown",
   "id": "outstanding-niger",
   "metadata": {
    "slideshow": {
     "slide_type": "slide"
    },
    "tags": []
   },
   "source": [
    "# Un artículo sobre sistemas de codificación \n",
    "\n",
    "-[Unicode & Character Encodings in Python: A Painless Guide](https://realpython.com/python-encodings-guide/#pythons-built-in-functions)"
   ]
  },
  {
   "cell_type": "markdown",
   "id": "operating-creature",
   "metadata": {
    "slideshow": {
     "slide_type": "slide"
    }
   },
   "source": [
    "# DESAFÍO \n",
    "\n",
    "> Escribir un programa que ingrese 4 palabras desde el teclado e imprima aquellas que contienen la letra \"r\".\n",
    "\n",
    "**Pensar:** ¿podemos usar la instrucción **for** tal como la usamos hasta ahora para generar las 4 iteraciones?"
   ]
  },
  {
   "cell_type": "markdown",
   "id": "powerful-marijuana",
   "metadata": {
    "slideshow": {
     "slide_type": "subslide"
    }
   },
   "source": [
    "- La sentencia **for** permite iterar sobre una **secuencia**.  \n",
    "\n",
    "```python\n",
    "for variable in secuencia: \n",
    "\t\tinstrucción\n",
    "\t\tinstrucción\n",
    "\t\t...\n",
    "\t\tinstrucción\n",
    "```"
   ]
  },
  {
   "cell_type": "code",
   "execution_count": 22,
   "id": "basic-knowing",
   "metadata": {
    "slideshow": {
     "slide_type": "fragment"
    },
    "tags": []
   },
   "outputs": [
    {
     "name": "stdout",
     "output_type": "stream",
     "text": [
      "0\n",
      "1\n",
      "2\n",
      "3\n"
     ]
    }
   ],
   "source": [
    "string_num = \"0123\"\n",
    "for elem in string_num:\n",
    "    print(elem)"
   ]
  },
  {
   "cell_type": "markdown",
   "id": "adapted-necklace",
   "metadata": {
    "slideshow": {
     "slide_type": "subslide"
    }
   },
   "source": [
    "# Alguien podría pensar en plantear esto:\n"
   ]
  },
  {
   "cell_type": "code",
   "execution_count": 23,
   "id": "affecting-mounting",
   "metadata": {
    "slideshow": {
     "slide_type": "fragment"
    },
    "tags": []
   },
   "outputs": [
    {
     "name": "stdout",
     "output_type": "stream",
     "text": [
      "Ingresá una palabra: arbol\n",
      "arbol\n",
      "Ingresá una palabra: casa\n",
      "Ingresá una palabra: sol\n",
      "Ingresá una palabra: rio\n",
      "rio\n"
     ]
    }
   ],
   "source": [
    "for i in \"1234\":\n",
    "    word = input(\"Ingresá una palabra: \")\n",
    "    if \"r\" in word:\n",
    "        print(word)"
   ]
  },
  {
   "cell_type": "markdown",
   "id": "solved-glance",
   "metadata": {
    "slideshow": {
     "slide_type": "fragment"
    }
   },
   "source": [
    "Pero.. ¿sería una solución correcta? ¿Qué pasa si queremos ingresar 200 palabras?¿O 2000?"
   ]
  },
  {
   "cell_type": "markdown",
   "id": "defined-seeker",
   "metadata": {
    "slideshow": {
     "slide_type": "subslide"
    }
   },
   "source": [
    "# La  función range()\n",
    "\n",
    "- Esta función devuelve una secuencia de números enteros.\n",
    "\n",
    "- Puede tener de 1 a 3 argumentos: \n",
    "```python\n",
    "range(valor_inicial, valor_final, paso)\n",
    "```\n",
    "\n",
    "- Es posible invocarla con uno, dos o los tres argumentos."
   ]
  },
  {
   "cell_type": "code",
   "execution_count": 24,
   "id": "lesbian-implementation",
   "metadata": {
    "slideshow": {
     "slide_type": "subslide"
    }
   },
   "outputs": [
    {
     "name": "stdout",
     "output_type": "stream",
     "text": [
      "4-7-10-13-16-19-22-"
     ]
    }
   ],
   "source": [
    "for i in range(4, 23, 3):\n",
    "    print(f\"{i}\", end=\"-\")"
   ]
  },
  {
   "cell_type": "markdown",
   "id": "binary-hundred",
   "metadata": {
    "slideshow": {
     "slide_type": "subslide"
    }
   },
   "source": [
    "# Entonces, una mejor forma sería:"
   ]
  },
  {
   "cell_type": "code",
   "execution_count": 25,
   "id": "configured-pharmacology",
   "metadata": {
    "slideshow": {
     "slide_type": "fragment"
    },
    "tags": []
   },
   "outputs": [
    {
     "name": "stdout",
     "output_type": "stream",
     "text": [
      "Ingresa una palabra: arbol\n",
      "arbol\n",
      "Ingresa una palabra: casa\n",
      "Ingresa una palabra: sol\n",
      "Ingresa una palabra: rio\n",
      "rio\n"
     ]
    }
   ],
   "source": [
    " for i in range(4):\n",
    "    word = input(\"Ingresa una palabra: \")\n",
    "    if \"r\" in word:\n",
    "        print(word)"
   ]
  },
  {
   "cell_type": "markdown",
   "id": "successful-disclosure",
   "metadata": {
    "slideshow": {
     "slide_type": "slide"
    },
    "tags": []
   },
   "source": [
    "<center>\n",
    "<img src=\"imagenes/portada_video.png\" alt=\"nos vemos el martes\" style=\"width:1050px;\"/>\n",
    "</center>"
   ]
  }
 ],
 "metadata": {
  "celltoolbar": "Slideshow",
  "kernelspec": {
   "display_name": "Python 3 (ipykernel)",
   "language": "python",
   "name": "python3"
  },
  "language_info": {
   "codemirror_mode": {
    "name": "ipython",
    "version": 3
   },
   "file_extension": ".py",
   "mimetype": "text/x-python",
   "name": "python",
   "nbconvert_exporter": "python",
   "pygments_lexer": "ipython3",
   "version": "3.11.11"
  }
 },
 "nbformat": 4,
 "nbformat_minor": 5
}
